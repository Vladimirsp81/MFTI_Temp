{
 "nbformat": 4,
 "nbformat_minor": 2,
 "metadata": {
  "language_info": {
   "name": "python",
   "codemirror_mode": {
    "name": "ipython",
    "version": 3
   },
   "version": "3.7.4-final"
  },
  "orig_nbformat": 2,
  "file_extension": ".py",
  "mimetype": "text/x-python",
  "name": "python",
  "npconvert_exporter": "python",
  "pygments_lexer": "ipython3",
  "version": 3,
  "kernelspec": {
   "name": "python3",
   "display_name": "Python 3"
  }
 },
 "cells": [
  {
   "cell_type": "code",
   "execution_count": 1,
   "metadata": {},
   "outputs": [
    {
     "name": "stdout",
     "output_type": "stream",
     "text": "Requirement already satisfied: torch in c:\\users\\prudnikovvs\\appdata\\local\\programs\\python\\python37\\lib\\site-packages (1.3.1)\nRequirement already satisfied: numpy in c:\\users\\prudnikovvs\\appdata\\local\\programs\\python\\python37\\lib\\site-packages (from torch) (1.17.4)\nWARNING: You are using pip version 19.3.1; however, version 20.0 is available.\nYou should consider upgrading via the 'python -m pip install --upgrade pip' command.\nRequirement already satisfied: torchvision in c:\\users\\prudnikovvs\\appdata\\local\\programs\\python\\python37\\lib\\site-packages (0.4.2)\nRequirement already satisfied: pillow>=4.1.1 in c:\\users\\prudnikovvs\\appdata\\local\\programs\\python\\python37\\lib\\site-packages (from torchvision) (6.2.1)\nRequirement already satisfied: torch in c:\\users\\prudnikovvs\\appdata\\local\\programs\\python\\python37\\lib\\site-packages (from torchvision) (1.3.1)\nRequirement already satisfied: numpy in c:\\users\\prudnikovvs\\appdata\\local\\programs\\python\\python37\\lib\\site-packages (from torchvision) (1.17.4)\nRequirement already satisfied: six in c:\\users\\prudnikovvs\\appdata\\roaming\\python\\python37\\site-packages (from torchvision) (1.12.0)\nWARNING: You are using pip version 19.3.1; however, version 20.0 is available.\nYou should consider upgrading via the 'python -m pip install --upgrade pip' command.\nRequirement already satisfied: pillow in c:\\users\\prudnikovvs\\appdata\\local\\programs\\python\\python37\\lib\\site-packages (6.2.1)\nWARNING: You are using pip version 19.3.1; however, version 20.0 is available.\nYou should consider upgrading via the 'python -m pip install --upgrade pip' command.\n"
    }
   ],
   "source": [
    "!pip install torch\n",
    "!pip install torchvision\n",
    "!pip install pillow"
   ]
  },
  {
   "cell_type": "markdown",
   "execution_count": null,
   "metadata": {},
   "outputs": [],
   "source": [
    "Запускаем код ниже для клонирования репозитория"
   ]
  },
  {
   "cell_type": "code",
   "execution_count": 3,
   "metadata": {},
   "outputs": [
    {
     "name": "stderr",
     "output_type": "stream",
     "text": "Cloning into 'MFTI_Proj'...\n"
    }
   ],
   "source": [
    "!git clone https://github.com/Vladimirsp81/MFTI_Temp.git\n",
    "!cd MFTI_Temp"
   ]
  },
  {
   "cell_type": "markdown",
   "execution_count": null,
   "metadata": {},
   "outputs": [],
   "source": [
    "Запускаем утилиту для скачивания dataset'a edges2shoes"
   ]
  },
  {
   "cell_type": "code",
   "execution_count": 8,
   "metadata": {},
   "outputs": [],
   "source": [
    "!bash \"./MFTI_Temp/Utils/Download_data.sh\""
   ]
  },
  {
   "cell_type": "markdown",
   "execution_count": null,
   "metadata": {},
   "outputs": [],
   "source": [
    "Объявляем модель сети, определяем ее параметры и запускаем обучение Дискриминатора"
   ]
  },
  {
   "cell_type": "code",
   "execution_count": null,
   "metadata": {},
   "outputs": [],
   "source": [
    "!bash python ./MFTI_Temp/pix2pix_Train.py --dataroot ./MFTI_Temp/datasets/edges2shoes --which_direction AtoB --num_epochs 15 --batchSize 4 --no_resize_or_crop --no_flip"
   ]
  },
  {
   "cell_type": "markdown",
   "execution_count": null,
   "metadata": {},
   "outputs": [],
   "source": [
    "После обучения запускаем тест нашей модели, в процессе которого будут сохранены изображения"
   ]
  },
  {
   "cell_type": "code",
   "execution_count": null,
   "metadata": {},
   "outputs": [],
   "source": [
    "!bash python ./MFTI_Proj/pix2pix_Test.py --dataroot ./MFTI_Proj/datasets/edges2shoes/ --which_direction AtoB --num_epochs 15 --batchSize 4 --no_resize_or_crop --no_flip"
   ]
  }
 ]
}